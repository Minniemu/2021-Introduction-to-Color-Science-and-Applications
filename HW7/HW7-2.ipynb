{
 "cells": [
  {
   "cell_type": "code",
   "execution_count": 5,
   "metadata": {},
   "outputs": [
    {
     "name": "stdout",
     "output_type": "stream",
     "text": [
      "['82.0687\\n', '129.157\\n', '133.5166\\n', '53.0924\\n', '3.339\\n', '6.7391\\n', '170.9845\\n', '121.4034\\n', '142.7423\\n', '46.0031\\n', '8.9063\\n', '6.4786\\n']\n"
     ]
    }
   ],
   "source": [
    "#4107056007-07-Bin2Dec.py\n",
    "def ieee_754_conversion(s,expo,m):\n",
    "    \"\"\"\n",
    "    Converts an arbitrary precision Floating Point number.\n",
    "    Note: Since the calculations made by python inherently use floats, the accuracy is poor at high precision.\n",
    "\n",
    "    :param n: An unsigned integer of length `sgn_len` + `exp_len` + `mant_len` to be decoded as a float\n",
    "    :param sgn_len: number of sign bits\n",
    "    :param exp_len: number of exponent bits\n",
    "    :param mant_len: number of mantissa bits\n",
    "    :return: IEEE 754 Floating Point representation of the number `n`\n",
    "    \"\"\"\n",
    "    sgn_len=1\n",
    "    exp_len=8\n",
    "    mant_len=23\n",
    "    '''if n >= 2 ** (sgn_len + exp_len + mant_len):\n",
    "        raise ValueError(\"Number n is longer than prescribed parameters allows\")\n",
    "    '''\n",
    "    sign = (int(s,2))\n",
    "    exponent_raw = (int(expo,2))\n",
    "    mantissa = (int(m,2))\n",
    "    #print(\"0\",\"{0:b}\".format(n))\n",
    "    # print(\"sign\",sign)\n",
    "    # print(\"exponent\",exponent_raw)\n",
    "    # print(\"mantissa\",mantissa)\n",
    "    \n",
    "    sign_mult = 1\n",
    "    if sign == 1:\n",
    "        sign_mult = -1\n",
    "\n",
    "    if exponent_raw == 2 ** exp_len - 1:  # Could be Inf or NaN\n",
    "        if mantissa == 2 ** mant_len - 1:\n",
    "            return float('nan')  # NaN\n",
    "\n",
    "        return sign_mult * float('inf')  # Inf\n",
    "\n",
    "    exponent = exponent_raw - (2 ** (exp_len - 1) - 1)\n",
    "\n",
    "    if exponent_raw == 0:\n",
    "        mant_mult = 0  # Gradual Underflow\n",
    "    else:\n",
    "        mant_mult = 1\n",
    "\n",
    "    for b in range(mant_len - 1, -1, -1):\n",
    "        if mantissa & (2 ** b):\n",
    "            mant_mult += 1 / (2 ** (mant_len - b))\n",
    "\n",
    "    return sign_mult * (2 ** exponent) * mant_mult\n",
    "\n",
    "\n",
    "if __name__ == '__main__':\n",
    "    import struct\n",
    "    ieee_754 = []\n",
    "    with open('sideinforbina.txt','r') as file:\n",
    "        Lines = file.readlines()\n",
    "        for i in Lines:\n",
    "            num = i.strip()\n",
    "            s = bin(int(num[0],2))\n",
    "            expo = bin(int(num[1:9],2))\n",
    "            m = bin(int(num[9:],2))\n",
    "            #print(\"sign:{0} exponent:{1} mantissa:{2}\".format(s,expo,m))\n",
    "            result = round(ieee_754_conversion(s,expo,m),4)\n",
    "            ieee_754.append(str(result)+\"\\n\")\n",
    "    \n",
    "    print(ieee_754)\n",
    "\n",
    "    with open('sideinfordeci.txt','w') as out_file:\n",
    "        out_file.writelines(ieee_754)\n",
    "        out_file.close()\n",
    "            \n",
    "    '''num = \"01000011000000010010100000110001\"\n",
    "    s = bin(int(num[0],2))\n",
    "    expo = bin(int(num[1:9],2))\n",
    "    m = bin(int(num[9:],2))\n",
    "    print(round(ieee_754_conversion(s,expo,m),4))\n",
    "    #print(\"Manually converted:\", ieee_754_conversion(m, exp_len=8, mant_len=23))'''\n"
   ]
  }
 ],
 "metadata": {
  "kernelspec": {
   "display_name": "Python 3",
   "language": "python",
   "name": "python3"
  },
  "language_info": {
   "codemirror_mode": {
    "name": "ipython",
    "version": 3
   },
   "file_extension": ".py",
   "mimetype": "text/x-python",
   "name": "python",
   "nbconvert_exporter": "python",
   "pygments_lexer": "ipython3",
   "version": "3.6.9"
  }
 },
 "nbformat": 4,
 "nbformat_minor": 2
}
